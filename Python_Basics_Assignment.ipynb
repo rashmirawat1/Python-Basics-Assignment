{
  "nbformat": 4,
  "nbformat_minor": 0,
  "metadata": {
    "colab": {
      "provenance": []
    },
    "kernelspec": {
      "name": "python3",
      "display_name": "Python 3"
    },
    "language_info": {
      "name": "python"
    }
  },
  "cells": [
    {
      "cell_type": "markdown",
      "source": [
        "# Assignment – Python Basics\n",
        "\n",
        "### 1. Explain the key features of Python that make it a popular choice for programming.\n",
        "Python is a popular programming language because of the following features:\n",
        "- **Simple & Easy to Learn:** Python syntax is simple and similar to English.\n",
        "- **Interpreted Language:** Executes code line by line, making debugging easier.\n",
        "- **Dynamically Typed:** No need to declare data types explicitly.\n",
        "- **Extensive Libraries:** Provides a wide range of built-in modules and packages.\n",
        "- **Portable:** Code runs on different operating systems (Windows, Mac, Linux).\n",
        "- **Supports Multiple Paradigms:** Object-oriented, procedural, and functional programming.\n",
        "- **Open Source:** Free to use and distribute.\n"
      ],
      "metadata": {
        "id": "6CfWXUMZIian"
      }
    },
    {
      "cell_type": "code",
      "source": [
        "# Example\n",
        "print(\"Hello, Python!\")"
      ],
      "metadata": {
        "colab": {
          "base_uri": "https://localhost:8080/"
        },
        "id": "N_CFfIuAJNS0",
        "outputId": "c61858c1-7bd4-43aa-942b-34cefb7e470a"
      },
      "execution_count": null,
      "outputs": [
        {
          "output_type": "stream",
          "name": "stdout",
          "text": [
            "Hello, Python!\n"
          ]
        }
      ]
    },
    {
      "cell_type": "markdown",
      "source": [
        "### 2. Describe the role of predefined keywords in Python and provide examples of how they are used in a program.\n",
        "Keywords are reserved words that have special meaning and cannot be used as identifiers. They are essential for defining the structure and control flow of a program.\n",
        "Some examples of keywords are: if, else, while, for, def, class, True, False, None.\n",
        "They are used to define the structure and logic of a program.\n",
        "\n",
        "- **Role of Keywords:** Keywords act as instructions to the Python interpreter. They tell Python what operation to perform, such as conditional execution (if, else), looping (for, while), defining functions (def), handling exceptions (try, except), and more.\n",
        "- **Rules:**\n",
        "    - Keywords cannot be used as variable names or function names.\n",
        "    - They are case-sensitive.\n"
      ],
      "metadata": {
        "id": "bwFTcShxJXMC"
      }
    },
    {
      "cell_type": "code",
      "source": [
        "# Example\n",
        "if 5>3:\n",
        "    print(\"This block executes because condition is True\")\n",
        "else:\n",
        "    print(\"This will not execute\")\n"
      ],
      "metadata": {
        "colab": {
          "base_uri": "https://localhost:8080/"
        },
        "id": "U2WdsWASKAKD",
        "outputId": "d124f41f-f701-4662-d5bb-15d4b82a8c5f"
      },
      "execution_count": null,
      "outputs": [
        {
          "output_type": "stream",
          "name": "stdout",
          "text": [
            "This block executes because condition is True\n"
          ]
        }
      ]
    },
    {
      "cell_type": "markdown",
      "source": [
        "### 3. Compare and contrast mutable and immutable objects in Python with examples.\n",
        "In Python, objects are classified as either mutable or immutable based on whether their value can be changed after creation.  \n",
        "**Mutable Objects:** These are objects whose contents can be changed or updated after they are created, without changing their identity in memory. Lists, dictionaries, and sets are common mutable types. Mutable objects are useful when you want to update data frequently without creating new objects, whereas immutable objects are beneficial when you want to ensure data integrity and prevent accidental changes.\n",
        "\n",
        "**Immutable Objects:** These objects cannot be altered once they are created. If you try to modify an immutable object, a new object is created with the updated value, while the original remains unchanged. Examples of immutable objects are strings, tuples, and integers.\n",
        "\n"
      ],
      "metadata": {
        "id": "81Dd1ExlKhrF"
      }
    },
    {
      "cell_type": "code",
      "source": [
        "# Example of Mutable Object\n",
        "my_list = [1, 2, 3]\n",
        "my_list.append(4)\n",
        "print(\"Mutable Example:\", my_list)\n",
        "\n",
        "# Example of Immutable Object\n",
        "my_string = \"Hello\"\n",
        "new_string = my_string.replace(\"H\", \"J\")\n",
        "print(\"Original String:\", my_string)\n",
        "print(\"New String:\", new_string)\n"
      ],
      "metadata": {
        "colab": {
          "base_uri": "https://localhost:8080/"
        },
        "id": "kxL0poJhuaXQ",
        "outputId": "e87d9a33-83ee-4f11-f05e-4fc771c22f27"
      },
      "execution_count": 1,
      "outputs": [
        {
          "output_type": "stream",
          "name": "stdout",
          "text": [
            "Mutable Example: [1, 2, 3, 4]\n",
            "Original String: Hello\n",
            "New String: Jello\n"
          ]
        }
      ]
    },
    {
      "cell_type": "markdown",
      "source": [
        "### 4. Discuss the different types of operators in Python and provide examples of how they are used.\n",
        "Operators are symbols that perform operations on variables and values. They are a core part of any programming language as they allow computation and decision-making.\n",
        "\n",
        "1. **Arithmetic Operators**: Used for mathematical calculations like +, -, *, /, //, %, **.\n",
        "2. **Comparison Operators**: Used to compare two values and return Boolean results (==, !=, >, <, >=, <=).\n",
        "3. **Logical Operators**: Used to combine multiple conditions (and, or, not).\n",
        "4. **Assignment Operators**: Used to assign values and update them (=, +=, -=, *=, /=).\n",
        "5. **Bitwise Operators**: Work at the binary level (&, |, ^, <<, >>).\n",
        "6. **Membership Operators**: Check if a value exists in a sequence (in, not in).\n",
        "7. **Identity Operators**: Compare object identity (is, is not).\n"
      ],
      "metadata": {
        "id": "8DHZLZcAusJr"
      }
    },
    {
      "cell_type": "code",
      "source": [
        "# Examples\n",
        "a, b = 10, 3\n",
        "print(\"Arithmetic:\", a + b, a ** b)\n",
        "print(\"Comparison:\", a > b)\n",
        "print(\"Logical:\", (a > 5) and (b < 5))\n",
        "\n",
        "x = 5\n",
        "x += 3\n",
        "print(\"Assignment:\", x)\n",
        "\n",
        "print(\"Membership:\", 2 in [1, 2, 3])\n",
        "\n",
        "list1 = [1, 2]\n",
        "list2 = list1\n",
        "print(\"Identity:\", list1 is list2)\n"
      ],
      "metadata": {
        "colab": {
          "base_uri": "https://localhost:8080/"
        },
        "id": "-0ZpBVqyuzSa",
        "outputId": "b354d9f5-27c6-48f9-860b-e072efbcf142"
      },
      "execution_count": 2,
      "outputs": [
        {
          "output_type": "stream",
          "name": "stdout",
          "text": [
            "Arithmetic: 13 1000\n",
            "Comparison: True\n",
            "Logical: True\n",
            "Assignment: 8\n",
            "Membership: True\n",
            "Identity: True\n"
          ]
        }
      ]
    },
    {
      "cell_type": "markdown",
      "source": [
        "### 5. Explain the concept of type casting in Python with examples.\n",
        "Type casting, also known as type conversion, is the process of converting a variable from one data type to another. In Python, data types are dynamically assigned, but sometimes we need explicit control over the type of data. Type casting ensures that operations between variables of different data types work correctly without errors.\n",
        "- **Implicit Casting:** This is also called type promotion. Python automatically converts one data type into another when needed to prevent data loss. This usually happens when a smaller data type is used with a larger data type in an expression.\n",
        "\n",
        "- **Explicit Casting:** Explicit conversion is done by the programmer using built-in Python functions. This gives full control over the data type conversion but should be used carefully to avoid errors."
      ],
      "metadata": {
        "id": "QKqj89NQu0dR"
      }
    },
    {
      "cell_type": "code",
      "source": [
        "# Implicit Type Casting\n",
        "x = 5\n",
        "y = 2.0\n",
        "z = x + y\n",
        "print(\"Implicit Casting:\", z, type(z))\n",
        "\n",
        "# Explicit Type Casting\n",
        "a = \"123\"\n",
        "b = int(a)\n",
        "print(\"Explicit Casting:\", b, type(b))\n"
      ],
      "metadata": {
        "colab": {
          "base_uri": "https://localhost:8080/"
        },
        "id": "T0U0mEvCu4wK",
        "outputId": "e427f708-7539-4652-f444-a327dbd10595"
      },
      "execution_count": 3,
      "outputs": [
        {
          "output_type": "stream",
          "name": "stdout",
          "text": [
            "Implicit Casting: 7.0 <class 'float'>\n",
            "Explicit Casting: 123 <class 'int'>\n"
          ]
        }
      ]
    },
    {
      "cell_type": "markdown",
      "source": [
        "### 6. How do conditional statements work in Python? Illustrate with examples.\n",
        "Conditional statements are fundamental building blocks of programming because they allow a program to make decisions and execute certain parts of code only when specific conditions are satisfied. Without conditional statements, programs would run sequentially from top to bottom without any logical branching, which would severely limit their ability to respond to different situations or user inputs.\n",
        "\n",
        "- **if** executes a block when the condition is True.\n",
        "- **if-else** executes one block when True and another when False.\n",
        "- **if-elif-else** allows multiple conditions to be checked in order.\n"
      ],
      "metadata": {
        "id": "w3Kf490ju8Jq"
      }
    },
    {
      "cell_type": "code",
      "source": [
        "# Example\n",
        "age = 18\n",
        "if age > 18:\n",
        "    print(\"Adult\")\n",
        "elif age == 18:\n",
        "    print(\"Just became adult\")\n",
        "else:\n",
        "    print(\"Not an adult\")\n"
      ],
      "metadata": {
        "colab": {
          "base_uri": "https://localhost:8080/"
        },
        "id": "zaKVsW1eu_Ea",
        "outputId": "9e9b0c8e-eaa6-41e3-a801-92798855ca84"
      },
      "execution_count": 4,
      "outputs": [
        {
          "output_type": "stream",
          "name": "stdout",
          "text": [
            "Just became adult\n"
          ]
        }
      ]
    },
    {
      "cell_type": "markdown",
      "source": [
        "### 7. Describe the different types of loops in Python and their use cases with examples.\n",
        "Loops are control flow statements used to execute a block of code repeatedly until a specific condition becomes False. Loops make code shorter, avoid redundancy, and make programs more efficient.\n",
        "\n",
        "### Types of Loops:\n",
        "1. **for Loop:** The for loop is generally used when the number of iterations is known already or when we want to iterate over a sequence like a list, tuple, dictionary, or string. The for loop is often combined with the range() function, which generates a sequence of numbers. This makes it very convenient to run loops a fixed number of times.\n",
        "2. **while Loop:** The while loop is used when we do not know in advance how many times the loop needs to run. It continues to execute as long as the specified condition remains True. Once the condition becomes False, the loop terminates. However, care must be taken when using while loops because if the condition never becomes False, an infinite loop will occur.\n",
        "3. **Nested Loops:** Python also supports nested loops, which means having one loop inside another. The inner loop runs completely for every single iteration of the outer loop. In other words, for each iteration of the outer loop, the inner loop executes from start to finish. Nested loops are commonly used for working with multi-dimensional data structures such as matrices, where rows and columns need to be processed, or for generating patterns where both row and column logic are required simultaneously.\n",
        "4. **Control Statements:** Python also supports loop control statements such as break, which is used to exit the loop prematurely, continue, which skips the current iteration and moves to the next, and pass, which does nothing and is often used as a placeholder. Loops can also be nested, meaning one loop can exist inside another. This is particularly useful for working with two-dimensional data such as matrices.\n"
      ],
      "metadata": {
        "id": "7YPe4yvIvDlK"
      }
    },
    {
      "cell_type": "code",
      "source": [
        "# for Loop Example\n",
        "for i in range(5):\n",
        "    print(\"for loop:\", i)\n",
        "\n",
        "# while Loop Example\n",
        "count = 0\n",
        "while count < 5:\n",
        "    print(\"while loop:\", count)\n",
        "    count += 1\n",
        "\n",
        "# Nested Loop Example\n",
        "for i in range(2):\n",
        "    for j in range(3):\n",
        "        print(f\"Nested Loop: i={i}, j={j}\")\n",
        "\n",
        "# break and continue Example\n",
        "for i in range(5):\n",
        "    if i == 3:\n",
        "        continue  # Skip printing 3\n",
        "    print(\"With continue:\", i)\n"
      ],
      "metadata": {
        "colab": {
          "base_uri": "https://localhost:8080/"
        },
        "id": "D2Vy8CiSvHHL",
        "outputId": "bb653b80-7094-424d-e9b0-d28df1ef18d2"
      },
      "execution_count": 5,
      "outputs": [
        {
          "output_type": "stream",
          "name": "stdout",
          "text": [
            "for loop: 0\n",
            "for loop: 1\n",
            "for loop: 2\n",
            "for loop: 3\n",
            "for loop: 4\n",
            "while loop: 0\n",
            "while loop: 1\n",
            "while loop: 2\n",
            "while loop: 3\n",
            "while loop: 4\n",
            "Nested Loop: i=0, j=0\n",
            "Nested Loop: i=0, j=1\n",
            "Nested Loop: i=0, j=2\n",
            "Nested Loop: i=1, j=0\n",
            "Nested Loop: i=1, j=1\n",
            "Nested Loop: i=1, j=2\n",
            "With continue: 0\n",
            "With continue: 1\n",
            "With continue: 2\n",
            "With continue: 4\n"
          ]
        }
      ]
    }
  ]
}